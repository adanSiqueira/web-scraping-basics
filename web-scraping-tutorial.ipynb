{
 "cells": [
  {
   "cell_type": "markdown",
   "id": "08b719da",
   "metadata": {},
   "source": [
    "### Importing Libraries"
   ]
  },
  {
   "cell_type": "code",
   "execution_count": 36,
   "id": "974ebcbd",
   "metadata": {},
   "outputs": [],
   "source": [
    "import requests\n",
    "from bs4 import BeautifulSoup as bs\n",
    "import re"
   ]
  },
  {
   "cell_type": "markdown",
   "id": "2bd472a3",
   "metadata": {},
   "source": [
    "### Loading First Page"
   ]
  },
  {
   "cell_type": "code",
   "execution_count": 50,
   "id": "0d841887",
   "metadata": {},
   "outputs": [],
   "source": [
    "r = requests.get('https://keithgalli.github.io/web-scraping/example.html')\n",
    "\n",
    "soup = bs(r.content)"
   ]
  },
  {
   "cell_type": "markdown",
   "id": "ca2c8e54",
   "metadata": {},
   "source": [
    "### **Start Scraping with BeautifulSoup**"
   ]
  },
  {
   "cell_type": "markdown",
   "id": "fac553f6",
   "metadata": {},
   "source": [
    "#### find and find_all"
   ]
  },
  {
   "cell_type": "code",
   "execution_count": 18,
   "id": "a58dc864",
   "metadata": {},
   "outputs": [
    {
     "data": {
      "text/plain": [
       "<h2>A Header</h2>"
      ]
     },
     "execution_count": 18,
     "metadata": {},
     "output_type": "execute_result"
    }
   ],
   "source": [
    "first_header = soup.find(\"h2\")\n",
    "first_header"
   ]
  },
  {
   "cell_type": "code",
   "execution_count": 19,
   "id": "e3cf5482",
   "metadata": {},
   "outputs": [
    {
     "data": {
      "text/plain": [
       "[<h2>A Header</h2>, <h2>Another header</h2>]"
      ]
     },
     "execution_count": 19,
     "metadata": {},
     "output_type": "execute_result"
    }
   ],
   "source": [
    "headers = soup.find_all('h2')\n",
    "headers"
   ]
  },
  {
   "cell_type": "markdown",
   "id": "e68b26a2",
   "metadata": {},
   "source": [
    "#### Pass in a list of elements to look for"
   ]
  },
  {
   "cell_type": "code",
   "execution_count": 21,
   "id": "1236f1ae",
   "metadata": {},
   "outputs": [
    {
     "data": {
      "text/plain": [
       "<h1>HTML Webpage</h1>"
      ]
     },
     "execution_count": 21,
     "metadata": {},
     "output_type": "execute_result"
    }
   ],
   "source": [
    "first_header = soup.find([\"h1\",\"h2\"])\n",
    "first_header"
   ]
  },
  {
   "cell_type": "code",
   "execution_count": 22,
   "id": "0694eded",
   "metadata": {},
   "outputs": [
    {
     "data": {
      "text/plain": [
       "[<h1>HTML Webpage</h1>, <h2>A Header</h2>, <h2>Another header</h2>]"
      ]
     },
     "execution_count": 22,
     "metadata": {},
     "output_type": "execute_result"
    }
   ],
   "source": [
    "headers = soup.find_all([\"h1\",\"h2\"])\n",
    "headers"
   ]
  },
  {
   "cell_type": "code",
   "execution_count": 28,
   "id": "90b946b5",
   "metadata": {},
   "outputs": [
    {
     "data": {
      "text/plain": [
       "[<p>Link to more interesting example: <a href=\"https://keithgalli.github.io/web-scraping/webpage.html\">keithgalli.github.io/web-scraping/webpage.html</a></p>,\n",
       " <p><i>Some italicized text</i></p>,\n",
       " <p id=\"paragraph-id\"><b>Some bold text</b></p>]"
      ]
     },
     "execution_count": 28,
     "metadata": {},
     "output_type": "execute_result"
    }
   ],
   "source": [
    "#all paragraphs\n",
    "paragraph = soup.find_all('p')\n",
    "paragraph"
   ]
  },
  {
   "cell_type": "markdown",
   "id": "89675b31",
   "metadata": {},
   "source": [
    "#### Pass in attributes to the find/find_all function"
   ]
  },
  {
   "cell_type": "code",
   "execution_count": 26,
   "id": "461e2df5",
   "metadata": {},
   "outputs": [
    {
     "data": {
      "text/plain": [
       "[<p id=\"paragraph-id\"><b>Some bold text</b></p>]"
      ]
     },
     "execution_count": 26,
     "metadata": {},
     "output_type": "execute_result"
    }
   ],
   "source": [
    "#only paragraphs with attribute: 'paragraph-id'\n",
    "paragraph = soup.find_all('p', attrs={'id': 'paragraph-id'})\n",
    "paragraph"
   ]
  },
  {
   "cell_type": "markdown",
   "id": "6c8974ed",
   "metadata": {},
   "source": [
    "#### Nest find/find_all calls"
   ]
  },
  {
   "cell_type": "code",
   "execution_count": 31,
   "id": "093305e1",
   "metadata": {},
   "outputs": [],
   "source": [
    "body = soup.find('body')\n",
    "div = body.find('div')"
   ]
  },
  {
   "cell_type": "code",
   "execution_count": 32,
   "id": "8e05be64",
   "metadata": {},
   "outputs": [
    {
     "data": {
      "text/plain": [
       "<div align=\"middle\">\n",
       "<h1>HTML Webpage</h1>\n",
       "<p>Link to more interesting example: <a href=\"https://keithgalli.github.io/web-scraping/webpage.html\">keithgalli.github.io/web-scraping/webpage.html</a></p>\n",
       "</div>"
      ]
     },
     "execution_count": 32,
     "metadata": {},
     "output_type": "execute_result"
    }
   ],
   "source": [
    "div"
   ]
  },
  {
   "cell_type": "code",
   "execution_count": 33,
   "id": "6e20b6c1",
   "metadata": {},
   "outputs": [
    {
     "data": {
      "text/plain": [
       "<h1>HTML Webpage</h1>"
      ]
     },
     "execution_count": 33,
     "metadata": {},
     "output_type": "execute_result"
    }
   ],
   "source": [
    "header = div.find('h1')\n",
    "header"
   ]
  },
  {
   "cell_type": "markdown",
   "id": "fa0ce01d",
   "metadata": {},
   "source": [
    "#### Search for specific strings in find / find_all calls"
   ]
  },
  {
   "cell_type": "code",
   "execution_count": null,
   "id": "ea1fb505",
   "metadata": {},
   "outputs": [],
   "source": [
    "print(soup.prettify())"
   ]
  },
  {
   "cell_type": "code",
   "execution_count": 37,
   "id": "07f16159",
   "metadata": {},
   "outputs": [],
   "source": [
    "paragraphs = soup.find_all('p', string = re.compile('Some'))"
   ]
  },
  {
   "cell_type": "code",
   "execution_count": 38,
   "id": "d8623d3d",
   "metadata": {},
   "outputs": [
    {
     "data": {
      "text/plain": [
       "[<p><i>Some italicized text</i></p>,\n",
       " <p id=\"paragraph-id\"><b>Some bold text</b></p>]"
      ]
     },
     "execution_count": 38,
     "metadata": {},
     "output_type": "execute_result"
    }
   ],
   "source": [
    "paragraphs"
   ]
  },
  {
   "cell_type": "code",
   "execution_count": 39,
   "id": "72cfb6b9",
   "metadata": {},
   "outputs": [
    {
     "data": {
      "text/plain": [
       "[<h2>A Header</h2>, <h2>Another header</h2>]"
      ]
     },
     "execution_count": 39,
     "metadata": {},
     "output_type": "execute_result"
    }
   ],
   "source": [
    "headers = soup.find_all('h2', string = re.compile('(H|h)eader'))\n",
    "headers"
   ]
  },
  {
   "cell_type": "markdown",
   "id": "c669c3ae",
   "metadata": {},
   "source": [
    "#### select (CSS selector)"
   ]
  },
  {
   "cell_type": "code",
   "execution_count": null,
   "id": "cff37aa9",
   "metadata": {},
   "outputs": [],
   "source": [
    "print(soup.body.prettify())"
   ]
  },
  {
   "cell_type": "code",
   "execution_count": 40,
   "id": "01eb58fb",
   "metadata": {},
   "outputs": [
    {
     "data": {
      "text/plain": [
       "[<p>Link to more interesting example: <a href=\"https://keithgalli.github.io/web-scraping/webpage.html\">keithgalli.github.io/web-scraping/webpage.html</a></p>,\n",
       " <p><i>Some italicized text</i></p>,\n",
       " <p id=\"paragraph-id\"><b>Some bold text</b></p>]"
      ]
     },
     "execution_count": 40,
     "metadata": {},
     "output_type": "execute_result"
    }
   ],
   "source": [
    "content = soup.select('p')\n",
    "content"
   ]
  },
  {
   "cell_type": "code",
   "execution_count": null,
   "id": "84b984dc",
   "metadata": {},
   "outputs": [
    {
     "data": {
      "text/plain": [
       "[<p>Link to more interesting example: <a href=\"https://keithgalli.github.io/web-scraping/webpage.html\">keithgalli.github.io/web-scraping/webpage.html</a></p>]"
      ]
     },
     "execution_count": 46,
     "metadata": {},
     "output_type": "execute_result"
    }
   ],
   "source": [
    "## all p that are inside a div\n",
    "\n",
    "content = soup.select('div p')\n",
    "content"
   ]
  },
  {
   "cell_type": "code",
   "execution_count": 47,
   "id": "4d2b34c3",
   "metadata": {},
   "outputs": [
    {
     "data": {
      "text/plain": [
       "[<p><i>Some italicized text</i></p>,\n",
       " <p id=\"paragraph-id\"><b>Some bold text</b></p>]"
      ]
     },
     "execution_count": 47,
     "metadata": {},
     "output_type": "execute_result"
    }
   ],
   "source": [
    "# paragraphs directly after h2\n",
    "paragraphs = soup.select('h2 ~ p')\n",
    "paragraphs"
   ]
  },
  {
   "cell_type": "code",
   "execution_count": null,
   "id": "59647a4f",
   "metadata": {},
   "outputs": [
    {
     "data": {
      "text/plain": [
       "[<b>Some bold text</b>]"
      ]
     },
     "execution_count": 51,
     "metadata": {},
     "output_type": "execute_result"
    }
   ],
   "source": [
    "# Catch the first bold text in the paragraph that has id=paragraph-id\n",
    "bold_text = soup.select('p#paragraph-id b')\n",
    "bold_text"
   ]
  },
  {
   "cell_type": "code",
   "execution_count": 53,
   "id": "454b9ded",
   "metadata": {},
   "outputs": [
    {
     "name": "stdout",
     "output_type": "stream",
     "text": [
      "[<p><i>Some italicized text</i></p>, <p id=\"paragraph-id\"><b>Some bold text</b></p>]\n",
      "[<i>Some italicized text</i>]\n",
      "[]\n"
     ]
    }
   ],
   "source": [
    "#paragraphs that are directly descendents from <body>\n",
    "paragraphs = soup.select('body > p')\n",
    "print(paragraphs)\n",
    "\n",
    "#only italic structures in paragraphs that are directly descendents from <body>\n",
    "for paragraph in paragraphs:\n",
    "    print(paragraph.select('i'))"
   ]
  },
  {
   "cell_type": "markdown",
   "id": "e9df4006",
   "metadata": {},
   "source": [
    "#### 🥣 Diferença entre `soup.find_all()` e `soup.select()`\n",
    "Quando usar cada um?\n",
    "\n",
    "- **`find_all()`** → Para HTML simples ou buscas baseadas em atributos.\n",
    "- **`select()`** → Para seleções complexas usando a flexibilidade dos seletores CSS."
   ]
  },
  {
   "cell_type": "markdown",
   "id": "c9009d3c",
   "metadata": {},
   "source": [
    "\n",
    "\n",
    "Ambos são métodos da biblioteca **BeautifulSoup** para buscar elementos HTML, mas têm diferenças importantes.\n",
    "\n",
    "---\n",
    "\n",
    "##### 🔍 `soup.find_all()`\n",
    "\n",
    "**Características:**\n",
    "- Usa **parâmetros nomeados** (como `name`, `class_`, `id`, `attrs`)\n",
    "- Suporta buscas mais estruturadas e orientadas a atributos\n",
    "- Mais legível para buscas específicas\n",
    "\n",
    "**Exemplo:**\n",
    "```python\n",
    "soup.find_all('div', class_='product')\n",
    "```\n",
    "\n",
    "Retorna todas as `<div>` com `class=\"product\"`.\n",
    "\n",
    "**Busca por múltiplos atributos:**\n",
    "```\n",
    "soup.find_all('a', attrs={'href': True, 'title': 'Produto'})\n",
    "```\n",
    "\n",
    "---\n",
    "\n",
    "##### 🎯 `soup.select()`\n",
    "\n",
    "**Características:**\n",
    "- Usa **seletores CSS** (`.classe`, `#id`, `element > child`, etc.)\n",
    "- Mais conciso e flexível para seleções complexas\n",
    "- Ideal se você já conhece CSS\n",
    "\n",
    "**Exemplo equivalente:**\n",
    "``` \n",
    "soup.select('div.product')\n",
    "```\n",
    "\n",
    "**Exemplos avançados:**\n",
    "```soup.select('div#main > ul li.active')\n",
    "soup.select('a[href^=\"https://\"]')\n",
    "``` \n",
    "\n",
    "\n",
    "---\n",
    "\n",
    "##### 🔁 Comparativo Rápido\n",
    "\n",
    "| Aspecto              | `find_all()`                      | `select()`                       |\n",
    "|----------------------|-----------------------------------|----------------------------------|\n",
    "| Sintaxe              | Pythonic com argumentos           | CSS-like (strings com seletores) |\n",
    "| Mais legível para    | Atributos e tags específicas      | Seleções complexas com classes/IDs |\n",
    "| Suporte a CSS        | ❌ Não                            | ✅ Sim                            |\n",
    "| Retorno              | Lista de `Tag` objects            | Lista de `Tag` objects           |\n",
    "| Busca por múltiplos  | `soup.find_all(['p', 'a'])`       | `soup.select('p, a')`            |\n",
    "| Busca por atributo   | `attrs={'data-id': '123'}`        | `[data-id=\"123\"]`                |\n",
    "\n",
    "---"
   ]
  },
  {
   "cell_type": "markdown",
   "id": "869c0652",
   "metadata": {},
   "source": [
    "##### 👨‍💻 Exemplo prático com ambos:"
   ]
  },
  {
   "cell_type": "code",
   "execution_count": 49,
   "id": "1afea7f7",
   "metadata": {},
   "outputs": [
    {
     "name": "stdout",
     "output_type": "stream",
     "text": [
      "True\n"
     ]
    }
   ],
   "source": [
    "html = '''\n",
    "<div class=\"product\"><a href=\"/item1\">Item 1</a></div>\n",
    "<div class=\"product\"><a href=\"/item2\">Item 2</a></div>\n",
    "'''\n",
    "\n",
    "soup = bs(html, 'html.parser')\n",
    "\n",
    "# Usando find_all\n",
    "items1 = soup.find_all('div', class_='product')\n",
    "\n",
    "# Usando select\n",
    "items2 = soup.select('div.product')\n",
    "\n",
    "print(items1 == items2)  # True"
   ]
  },
  {
   "cell_type": "markdown",
   "id": "0ef8d29c",
   "metadata": {},
   "source": [
    "#### Get different properties of the HTML"
   ]
  },
  {
   "cell_type": "code",
   "execution_count": 59,
   "id": "185e1cb0",
   "metadata": {},
   "outputs": [
    {
     "name": "stdout",
     "output_type": "stream",
     "text": [
      "A Header\n"
     ]
    }
   ],
   "source": [
    "header = soup.find('h2')\n",
    "print(header.string)"
   ]
  },
  {
   "cell_type": "code",
   "execution_count": 60,
   "id": "b32e66c4",
   "metadata": {},
   "outputs": [
    {
     "name": "stdout",
     "output_type": "stream",
     "text": [
      "<div align=\"middle\">\n",
      " <h1>\n",
      "  HTML Webpage\n",
      " </h1>\n",
      " <p>\n",
      "  Link to more interesting example:\n",
      "  <a href=\"https://keithgalli.github.io/web-scraping/webpage.html\">\n",
      "   keithgalli.github.io/web-scraping/webpage.html\n",
      "  </a>\n",
      " </p>\n",
      "</div>\n",
      "\n"
     ]
    }
   ],
   "source": [
    "div = soup.find('div')\n",
    "print(div.prettify())"
   ]
  },
  {
   "cell_type": "code",
   "execution_count": 62,
   "id": "32e766f2",
   "metadata": {},
   "outputs": [
    {
     "name": "stdout",
     "output_type": "stream",
     "text": [
      "\n",
      "HTML Webpage\n",
      "Link to more interesting example: keithgalli.github.io/web-scraping/webpage.html\n",
      "\n"
     ]
    }
   ],
   "source": [
    "print(div.get_text())"
   ]
  },
  {
   "cell_type": "markdown",
   "id": "61400a27",
   "metadata": {},
   "source": [
    "#### Get a specific property from an element"
   ]
  },
  {
   "cell_type": "code",
   "execution_count": 66,
   "id": "8ba3657b",
   "metadata": {},
   "outputs": [
    {
     "data": {
      "text/plain": [
       "<a href=\"https://keithgalli.github.io/web-scraping/webpage.html\">keithgalli.github.io/web-scraping/webpage.html</a>"
      ]
     },
     "execution_count": 66,
     "metadata": {},
     "output_type": "execute_result"
    }
   ],
   "source": [
    "link = soup.find('a')\n",
    "link"
   ]
  },
  {
   "cell_type": "code",
   "execution_count": 65,
   "id": "177daf08",
   "metadata": {},
   "outputs": [
    {
     "data": {
      "text/plain": [
       "'https://keithgalli.github.io/web-scraping/webpage.html'"
      ]
     },
     "execution_count": 65,
     "metadata": {},
     "output_type": "execute_result"
    }
   ],
   "source": [
    "link['href']"
   ]
  },
  {
   "cell_type": "code",
   "execution_count": 67,
   "id": "25ffe789",
   "metadata": {},
   "outputs": [],
   "source": [
    "paragraphs = soup.select('p#paragraph-id')"
   ]
  },
  {
   "cell_type": "code",
   "execution_count": 68,
   "id": "1c7f0707",
   "metadata": {},
   "outputs": [
    {
     "data": {
      "text/plain": [
       "[<p id=\"paragraph-id\"><b>Some bold text</b></p>]"
      ]
     },
     "execution_count": 68,
     "metadata": {},
     "output_type": "execute_result"
    }
   ],
   "source": [
    "paragraphs"
   ]
  },
  {
   "cell_type": "code",
   "execution_count": 71,
   "id": "cc7be75a",
   "metadata": {},
   "outputs": [
    {
     "data": {
      "text/plain": [
       "'paragraph-id'"
      ]
     },
     "execution_count": 71,
     "metadata": {},
     "output_type": "execute_result"
    }
   ],
   "source": [
    "paragraphs[0]['id']"
   ]
  },
  {
   "cell_type": "markdown",
   "id": "0ffe9f38",
   "metadata": {},
   "source": [
    "#### Code Navigation"
   ]
  },
  {
   "cell_type": "code",
   "execution_count": 75,
   "id": "83afa8fc",
   "metadata": {},
   "outputs": [
    {
     "data": {
      "text/plain": [
       "'HTML Webpage'"
      ]
     },
     "execution_count": 75,
     "metadata": {},
     "output_type": "execute_result"
    }
   ],
   "source": [
    "#Path Syntax\n",
    "soup.body.div.h1.string"
   ]
  },
  {
   "cell_type": "code",
   "execution_count": 77,
   "id": "101e04d8",
   "metadata": {},
   "outputs": [
    {
     "data": {
      "text/plain": [
       "<div align=\"middle\">\n",
       "<h1>HTML Webpage</h1>\n",
       "<p>Link to more interesting example: <a href=\"https://keithgalli.github.io/web-scraping/webpage.html\">keithgalli.github.io/web-scraping/webpage.html</a></p>\n",
       "</div>"
      ]
     },
     "execution_count": 77,
     "metadata": {},
     "output_type": "execute_result"
    }
   ],
   "source": [
    "# Useful Terms: Parent, Sibling, Child\n",
    "soup.body.find('div')"
   ]
  },
  {
   "cell_type": "code",
   "execution_count": 78,
   "id": "c8d82089",
   "metadata": {},
   "outputs": [
    {
     "data": {
      "text/plain": [
       "[<h2>A Header</h2>,\n",
       " <p><i>Some italicized text</i></p>,\n",
       " <h2>Another header</h2>,\n",
       " <p id=\"paragraph-id\"><b>Some bold text</b></p>]"
      ]
     },
     "execution_count": 78,
     "metadata": {},
     "output_type": "execute_result"
    }
   ],
   "source": [
    "soup.body.find('div').find_next_siblings()"
   ]
  },
  {
   "cell_type": "code",
   "execution_count": null,
   "id": "e2368d10",
   "metadata": {},
   "outputs": [],
   "source": []
  },
  {
   "cell_type": "code",
   "execution_count": null,
   "id": "1f8d01dc",
   "metadata": {},
   "outputs": [],
   "source": []
  },
  {
   "cell_type": "code",
   "execution_count": null,
   "id": "61fad267",
   "metadata": {},
   "outputs": [],
   "source": []
  },
  {
   "cell_type": "code",
   "execution_count": null,
   "id": "dd3f7d4c",
   "metadata": {},
   "outputs": [],
   "source": []
  }
 ],
 "metadata": {
  "kernelspec": {
   "display_name": "venv",
   "language": "python",
   "name": "python3"
  },
  "language_info": {
   "codemirror_mode": {
    "name": "ipython",
    "version": 3
   },
   "file_extension": ".py",
   "mimetype": "text/x-python",
   "name": "python",
   "nbconvert_exporter": "python",
   "pygments_lexer": "ipython3",
   "version": "3.13.3"
  }
 },
 "nbformat": 4,
 "nbformat_minor": 5
}
